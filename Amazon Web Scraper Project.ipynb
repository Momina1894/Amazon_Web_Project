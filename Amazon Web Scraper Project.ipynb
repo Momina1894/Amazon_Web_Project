{
 "cells": [
  {
   "cell_type": "code",
   "execution_count": 74,
   "id": "5abc18fd-b948-460b-9b2e-b3186021bf0a",
   "metadata": {},
   "outputs": [],
   "source": [
    "from bs4 import BeautifulSoup\n",
    "import requests\n",
    "import smtplib\n",
    "import time\n",
    "import datetime\n",
    "import re\n",
    "import csv \n",
    "import pandas as pd"
   ]
  },
  {
   "cell_type": "code",
   "execution_count": 60,
   "id": "86f3ce72-41a8-4402-9e26-4e455369c927",
   "metadata": {},
   "outputs": [
    {
     "name": "stdout",
     "output_type": "stream",
     "text": [
      "\n",
      "             How I Became Stupid\n",
      "            \n",
      "\n",
      "\n",
      "\n",
      "\n",
      "\n",
      "\n",
      "\n",
      "                           $14.00\n",
      "                          \n",
      "\n",
      "\n",
      "\n",
      "\n",
      "\n",
      "                             $\n",
      "                            \n",
      "\n",
      "                             14\n",
      "                             \n",
      "                              .\n",
      "                             \n",
      "\n",
      "\n",
      "                             00\n",
      "                            \n",
      "\n",
      "\n",
      "\n",
      "\n",
      "\n",
      "\n",
      "\n",
      "\n",
      "\n",
      "\n",
      "\n",
      "\n",
      "\n",
      "\n",
      "\n",
      "\n",
      "\n"
     ]
    }
   ],
   "source": [
    "# Connect to website\n",
    "url = 'https://www.amazon.com/How-Became-Stupid-Martin-Page/dp/0142004952'\n",
    "headers = {\"User-Agent\": \"Mozilla/5.0 (Windows NT 10.0; Win64; x64) AppleWebKit/537.36 (KHTML, like Gecko) Chrome/127.0.0.0 Safari/537.36\",\"Accept-Encoding\":\"gzip, deflate\", \"Accept\":\"text/html,application/xhtml+xml,application/xml;q=0.9,*/*;q=0.8\", \"DNT\":\"1\",\"Connection\":\"close\", \"Upgrade-Insecure-Requests\":\"1\"}\n",
    "page = requests.get(url, headers=headers)\n",
    "\n",
    "soup1 = BeautifulSoup(page.content, \"html.parser\")\n",
    "\n",
    "soup2 = BeautifulSoup(soup1.prettify(), \"html.parser\")\n",
    "\n",
    "title = soup2.find(id='productTitle').get_text()\n",
    "\n",
    "price = soup2.find(id='apex_offerDisplay_expanded').get_text()\n",
    "\n",
    "print(title)\n",
    "print(price)"
   ]
  },
  {
   "cell_type": "code",
   "execution_count": 66,
   "id": "dfbbfffa-e222-4e36-afcb-54dd59978646",
   "metadata": {},
   "outputs": [
    {
     "name": "stdout",
     "output_type": "stream",
     "text": [
      "How I Became Stupid\n",
      "14.00\n"
     ]
    }
   ],
   "source": [
    "# Cleaning it up\n",
    "price = price.strip().replace(\"$\", \"\").strip()\n",
    "price = re.search(r'\\d+\\.\\d{2}', re.sub(r'\\s+', '', price)).group(0)\n",
    "title = title.strip()\n",
    "print(title)\n",
    "print(price)"
   ]
  },
  {
   "cell_type": "code",
   "execution_count": 68,
   "id": "4538b658-2f01-4c06-aa74-54cdb20fb5ab",
   "metadata": {},
   "outputs": [
    {
     "name": "stdout",
     "output_type": "stream",
     "text": [
      "2024-08-11\n"
     ]
    }
   ],
   "source": [
    "# Create a Timestamp for your output to track when data was collected\n",
    "import datetime\n",
    "today = datetime.date.today()\n",
    "print(today)"
   ]
  },
  {
   "cell_type": "code",
   "execution_count": 72,
   "id": "742195da-0565-40ca-a748-564cd99b3ae8",
   "metadata": {},
   "outputs": [],
   "source": [
    "header = ['Title', 'Price', 'Date']\n",
    "data = [title, price, today]\n",
    "\n",
    "with open('AmazonWebScraperDataset.csv', 'w', newline='', encoding='UTF8') as f:\n",
    "    writer = csv.writer(f)\n",
    "    writer.writerow(header)\n",
    "    writer.writerow(data)"
   ]
  },
  {
   "cell_type": "code",
   "execution_count": 80,
   "id": "c9e131e6-5e55-41ea-8d81-0cfb5d0546f8",
   "metadata": {
    "scrolled": true
   },
   "outputs": [
    {
     "name": "stdout",
     "output_type": "stream",
     "text": [
      "                 Title  Price        Date\n",
      "0  How I Became Stupid   14.0  2024-08-11\n",
      "1  How I Became Stupid   14.0  2024-08-11\n"
     ]
    }
   ],
   "source": [
    "# Since the file was saved, we are going to read the file in\n",
    "df = pd.read_csv(r'C:\\Users\\Moeen\\AmazonWebScraperDataset.csv')\n",
    "print(df)"
   ]
  },
  {
   "cell_type": "code",
   "execution_count": 78,
   "id": "1122c917-6aa5-4e6b-9460-164869de054b",
   "metadata": {},
   "outputs": [],
   "source": [
    "#Appending to csv (ran this code, and then ran the previous one to see the change)\n",
    "with open('AmazonWebScraperDataset.csv', 'a+', newline='', encoding='UTF8') as f:\n",
    "    writer = csv.writer(f)\n",
    "    writer.writerow(data)"
   ]
  },
  {
   "cell_type": "code",
   "execution_count": 82,
   "id": "b41a9765-fe8c-45f5-9b9f-437a34d60a07",
   "metadata": {},
   "outputs": [],
   "source": [
    "# Automate this so you don't have to come and do this everyday, we are going to put all the code together.\n",
    "def check_price():\n",
    "    url = 'https://www.amazon.com/How-Became-Stupid-Martin-Page/dp/0142004952'\n",
    "    headers = {\"User-Agent\": \"Mozilla/5.0 (Windows NT 10.0; Win64; x64) AppleWebKit/537.36 (KHTML, like Gecko) Chrome/127.0.0.0 Safari/537.36\",\"Accept-Encoding\":\"gzip, deflate\", \"Accept\":\"text/html,application/xhtml+xml,application/xml;q=0.9,*/*;q=0.8\", \"DNT\":\"1\",\"Connection\":\"close\", \"Upgrade-Insecure-Requests\":\"1\"}\n",
    "    page = requests.get(url, headers=headers)\n",
    "\n",
    "    soup1 = BeautifulSoup(page.content, \"html.parser\")\n",
    "\n",
    "    soup2 = BeautifulSoup(soup1.prettify(), \"html.parser\")\n",
    "\n",
    "    title = soup2.find(id='productTitle').get_text()\n",
    "\n",
    "    price = soup2.find(id='apex_offerDisplay_expanded').get_text()\n",
    "    price = price.strip().replace(\"$\", \"\").strip()\n",
    "    price = re.search(r'\\d+\\.\\d{2}', re.sub(r'\\s+', '', price)).group(0)\n",
    "    title = title.strip()\n",
    "    today = datetime.date.today()\n",
    "    header = ['Title', 'Price', 'Date']\n",
    "    data = [title, price, today]\n",
    "\n",
    "    with open('AmazonWebScraperDataset.csv', 'w', newline='', encoding='UTF8') as f:\n",
    "        writer = csv.writer(f)\n",
    "        writer.writerow(header)\n",
    "        writer.writerow(data)"
   ]
  },
  {
   "cell_type": "code",
   "execution_count": null,
   "id": "d3a66e75-f258-4076-a196-b772b8f6ecf6",
   "metadata": {},
   "outputs": [],
   "source": [
    "# Runs check_price after a set time and inputs data into your CSV (run this for 24 hours 60 x 60 x 24)\n",
    "while(True):\n",
    "    check_price()\n",
    "    time.sleep(86400)"
   ]
  },
  {
   "cell_type": "code",
   "execution_count": null,
   "id": "a0c0d5df-aa5c-4d6b-9d80-c6341465cd4d",
   "metadata": {},
   "outputs": [],
   "source": [
    "df = pd.read_csv(r'C:\\Users\\alexf\\AmazonWebScraperDataset.csv')\n",
    "print(df)"
   ]
  },
  {
   "cell_type": "code",
   "execution_count": null,
   "id": "f0eec9a8-1f43-4438-aec2-394c04269a5e",
   "metadata": {},
   "outputs": [],
   "source": [
    "# If uou want to try sending yourself an email when a price hits below a certain level you can try it.\n",
    "def send_mail():\n",
    "    server = smtplib.SMTP_SSL('smtp.gmail.com',465)\n",
    "    server.ehlo()\n",
    "    #server.starttls()\n",
    "    server.ehlo()\n",
    "    server.login('mominahumayun765@gmail.com','xxxxxxxxxxxxxxxx')\n",
    "    \n",
    "    subject = \"The book is below $14! Now is your chance to buy!\"\n",
    "    body = \"Momina, This is the moment we have been waiting for. Now is your chance to pick up the shirt of your dreams. Don't mess it up! Link here: https://www.amazon.com/How-Became-Stupid-Martin-Page/dp/0142004952\"\n",
    "   \n",
    "    msg = f\"Subject: {subject}\\n\\n{body}\"\n",
    "    \n",
    "    server.sendmail(\n",
    "        'mominahumayun765@gmail.com',\n",
    "        msg\n",
    "     \n",
    "    )"
   ]
  }
 ],
 "metadata": {
  "kernelspec": {
   "display_name": "Python 3 (ipykernel)",
   "language": "python",
   "name": "python3"
  },
  "language_info": {
   "codemirror_mode": {
    "name": "ipython",
    "version": 3
   },
   "file_extension": ".py",
   "mimetype": "text/x-python",
   "name": "python",
   "nbconvert_exporter": "python",
   "pygments_lexer": "ipython3",
   "version": "3.12.4"
  }
 },
 "nbformat": 4,
 "nbformat_minor": 5
}
